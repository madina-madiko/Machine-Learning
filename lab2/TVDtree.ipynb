{
 "cells": [
  {
   "cell_type": "code",
   "execution_count": 20,
   "metadata": {},
   "outputs": [
    {
     "data": {
      "application/vnd.jupyter.widget-view+json": {
       "model_id": "6bfaa5d17b2944b788cbcc4463d50cf2"
      }
     },
     "metadata": {},
     "output_type": "display_data"
    }
   ],
   "source": [
    "from ipywidgets import interact_manual\n",
    "from pyDatalog import pyDatalog\n",
    "import logging\n",
    "from pyDatalog import pyEngine\n",
    "pyEngine.Logging = True\n",
    "logging.basicConfig(level=logging.INFO)\n",
    "pyDatalog.create_terms('U,X,Y,Z, R, child, parent, husband, wife, ancestor, descendent, sister, brother')\n",
    "@interact_manual\n",
    "def get_input(Name='', Role=''):\n",
    "    \n",
    "    #I also build Vampire diaries families tree. Because this is my fav series...\n",
    "    +parent('Nadya','Katherine')\n",
    "    +parent('Elena','John')\n",
    "    +parent('Elena','Izabel')\n",
    "    +parent('Isabel','Nadya')\n",
    "    +parent('Rebekka','Michael')\n",
    "    +parent('Klaus','Michael')\n",
    "    +parent('Kol','Michael')\n",
    "    +parent('Elijah','Michael')\n",
    "    +parent('Finn','Michael')\n",
    "    +parent('Freya','Michael')\n",
    "    +parent('Rebekka','Ester')\n",
    "    +parent('Klaus','Ester')\n",
    "    +parent('Kol','Ester')\n",
    "    +parent('Elijah','Ester')\n",
    "    +parent('Finn','Ester')\n",
    "    +parent('Freya','Ester')\n",
    "    +parent('Hope','Klaus')\n",
    "    +parent('Hope','Hayley')\n",
    "    +wife('Michael','Ester')\n",
    "    +husband('Ester','Michael')\n",
    "    +wife('Stefan','Caroline')\n",
    "    +husband('Caroline','Stefan')\n",
    "    +brother('Klaus', 'Kol')\n",
    "    +brother('Kol', 'Elijah')\n",
    "    +brother('Kol', 'Finn')\n",
    "    +brother('Finn', 'Elijah')\n",
    "    +brother('Klaus', 'Elijah')\n",
    "    +brother('Klaus', 'Finn')\n",
    "    +sister('Freya','Rebekka')\n",
    "    +brother('Stefan', 'Damon')\n",
    "\n",
    "    #created relations in the family tree\n",
    "    child(X,Y) <= parent(Y,X)\n",
    "    ancestor(Y,X) <= parent(Y,X)\n",
    "    ancestor(Y,X) <= parent(Z,X) & ancestor(Y,Z)\n",
    "    ancestor(Y,X) <= parent(U,X) & ancestor(Y,U)\n",
    "    descendent(X,Y) <= ancestor(Y,X)\n",
    "    husband(X,Y) <= wife(Y,X)\n",
    "    brother(X,Y) <= brother (Y,X)\n",
    "    sister(X,Y) <= sister(Y,X)\n",
    "    \n",
    "    if (Role == 'child'):\n",
    "        print(child(Name, Y))\n",
    "        \n",
    "    if (Role == 'ancestor'):\n",
    "        print(ancestor(Name, X))\n",
    "        \n",
    "    if (Role == 'parent'):\n",
    "        print(parent(Name, X))\n",
    "        \n",
    "    if (Role == 'descendent'):\n",
    "        print(descendent(Name, Y))\n",
    "        \n",
    "    if (Role == 'husband'):\n",
    "        print(husband(Name, X))\n",
    "        \n",
    "    if (Role == 'wife'):\n",
    "        print(wife(Name, X))\n",
    "        \n",
    "    if (Role == 'brother'):\n",
    "        print(brother(Name, X))\n",
    "        \n",
    "    if(Role == 'sister'):\n",
    "        print(sister(Name, X))\n"
   ]
  },
  {
   "cell_type": "code",
   "execution_count": null,
   "metadata": {
    "collapsed": true
   },
   "outputs": [],
   "source": []
  }
 ],
 "metadata": {
  "kernelspec": {
   "display_name": "Python 3",
   "language": "python",
   "name": "python3"
  },
  "language_info": {
   "codemirror_mode": {
    "name": "ipython",
    "version": 3
   },
   "file_extension": ".py",
   "mimetype": "text/x-python",
   "name": "python",
   "nbconvert_exporter": "python",
   "pygments_lexer": "ipython3",
   "version": "3.6.1"
  }
 },
 "nbformat": 4,
 "nbformat_minor": 2
}
