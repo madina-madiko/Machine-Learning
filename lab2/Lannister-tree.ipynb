{
 "cells": [
  {
   "cell_type": "code",
   "execution_count": 1,
   "metadata": {},
   "outputs": [
    {
     "data": {
      "application/vnd.jupyter.widget-view+json": {
       "model_id": "2b43a59c82e34e0aa255b4df4a49d23f"
      }
     },
     "metadata": {},
     "output_type": "display_data"
    }
   ],
   "source": [
    "from ipywidgets import interact_manual\n",
    "from pyDatalog import pyDatalog\n",
    "import logging\n",
    "from pyDatalog import pyEngine\n",
    "pyEngine.Logging = True\n",
    "logging.basicConfig(level=logging.INFO)\n",
    "pyDatalog.create_terms('U,X,Y,Z, R, child, parent, husband, wife, ancestor, descendent')\n",
    "@interact_manual\n",
    "def get_input(Name='', Role=''):\n",
    "    \n",
    "    #build Lannister family tree\n",
    "    +parent('Tytos','Genna')\n",
    "    +parent('Tytos','Gerion')\n",
    "    +parent('Tytos','Tygett')\n",
    "    +parent('Tytos','Kevan')\n",
    "    +parent('Tytos','Tywin')\n",
    "    +parent('Genna','Cleos')\n",
    "    +parent('Kevan','Lancel')\n",
    "    +parent('Tywin','Cercei')\n",
    "    +parent('Tywin','Jaime')\n",
    "    +parent('Tywin','Tyrion')\n",
    "    +parent('unknown','Joanna')\n",
    "    +parent('Joanna','Cercei')\n",
    "    +parent('Joanna','Jaime')\n",
    "    +parent('Joanna','Tyrion')\n",
    "    +parent('Cercei','Joffrey')\n",
    "    +parent('Cercei','Myrcella')\n",
    "    +parent('Cercei','Tommen')\n",
    "    +parent('Jaime','Joffrey')\n",
    "    +parent('Jaime','Myrcella')\n",
    "    +parent('Jaime','Tommen')\n",
    "    +husband('Tywin, Joanna')\n",
    "    +wife('Joanna','Tywin')\n",
    "\n",
    "    #created relations in the family tree\n",
    "    child(X,Y) <= parent(Y,X)\n",
    "    ancestor(Y,X) <= parent(Y,X)\n",
    "    ancestor(Y,X) <= parent(Z,X) & ancestor(Y,Z)\n",
    "    ancestor(Y,X) <= parent(U,X) & ancestor(Y,U)\n",
    "    descendent(X,Y) <= ancestor(Y,X)\n",
    "    husband(X,Y) <= wife(Y,X)\n",
    "    \n",
    "    if (Role == 'child'):\n",
    "        print(child(Name, Y))\n",
    "        \n",
    "    if (Role == 'ancestor'):\n",
    "        print(ancestor(Name, X))\n",
    "        \n",
    "    if (Role == 'parent'):\n",
    "        print(parent(Name, X))\n",
    "        \n",
    "    if (Role == 'descendent'):\n",
    "        print(descendent(Name, Y))\n",
    "        \n",
    "    if (Role == 'husband'):\n",
    "        print(husband(Name, X))\n",
    "        \n",
    "    if (Role == 'wife'):\n",
    "        print(wife(Name, X))\n"
   ]
  },
  {
   "cell_type": "code",
   "execution_count": null,
   "metadata": {
    "collapsed": true
   },
   "outputs": [],
   "source": []
  }
 ],
 "metadata": {
  "kernelspec": {
   "display_name": "Python 3",
   "language": "python",
   "name": "python3"
  },
  "language_info": {
   "codemirror_mode": {
    "name": "ipython",
    "version": 3
   },
   "file_extension": ".py",
   "mimetype": "text/x-python",
   "name": "python",
   "nbconvert_exporter": "python",
   "pygments_lexer": "ipython3",
   "version": "3.6.1"
  }
 },
 "nbformat": 4,
 "nbformat_minor": 2
}
